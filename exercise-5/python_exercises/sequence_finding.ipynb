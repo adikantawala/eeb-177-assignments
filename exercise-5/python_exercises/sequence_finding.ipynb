{
 "cells": [
  {
   "cell_type": "code",
   "execution_count": 4,
   "metadata": {
    "collapsed": false
   },
   "outputs": [
    {
     "name": "stdout",
     "output_type": "stream",
     "text": [
      "Object `string.startswith` not found.\n"
     ]
    }
   ],
   "source": []
  },
  {
   "cell_type": "code",
   "execution_count": 13,
   "metadata": {
    "collapsed": false
   },
   "outputs": [],
   "source": [
    "#open from csb/unix/data file path\n",
    "marra_data = open(\"/home/eeb177-student/Desktop/eeb-177/csb/unix/data/Marra2014_data.fasta\")\n",
    "marra_lines = marra_data.readlines()\n",
    "#read in lines\n",
    "#data processing \n",
    "marra_dict = {}\n",
    "for line in marra_lines:\n",
    "    if line.startswith(\">\"): #if the line starts with \">\" you want to get the first position from the list created by split \n",
    "        contig = line.split(\" \")[0] #this should index and give contig in the 0 index/position\n",
    "        reset=\"\"\n",
    "    else: # this is needed if you are on a line that is just sequence so you can process it and go to the next one \n",
    "        edited = line.replace(\"\\n\", \"\") \n",
    "        reset= reset+edited # put everything into one line seperated by space because the DNA sequence spans more than one line\n",
    "        marra_dict[contig]= reset # making the key the contig value and the associated sequence the value \n",
    "\n",
    "#actual searching and printing of output \n",
    "marra_contig_output = open(\"seq_finding_output.csv\", \"w\") #open file t output to\n",
    "for key, value in marra_dict.items(): \n",
    "    num_matches = value.count(\"AATG\") \n",
    "    marra_contig_output.write(contig_name+ \", \" +str(num_matches)+ \"\\n\")\n",
    "marra_contig_output.close()\n",
    "        \n",
    "\n",
    "\n",
    "# # if (re.match(pattern=\">\", string=line)):\n",
    "# # contig_name = re.search(\">(\\w*)\\s.*\", line).group(1)\n",
    "# # output.write(key+\",\"+str(value)+\"\\n\")"
   ]
  },
  {
   "cell_type": "code",
   "execution_count": null,
   "metadata": {
    "collapsed": true
   },
   "outputs": [],
   "source": []
  }
 ],
 "metadata": {
  "anaconda-cloud": {},
  "kernelspec": {
   "display_name": "Python [conda root]",
   "language": "python",
   "name": "conda-root-py"
  },
  "language_info": {
   "codemirror_mode": {
    "name": "ipython",
    "version": 3
   },
   "file_extension": ".py",
   "mimetype": "text/x-python",
   "name": "python",
   "nbconvert_exporter": "python",
   "pygments_lexer": "ipython3",
   "version": "3.5.2"
  }
 },
 "nbformat": 4,
 "nbformat_minor": 2
}
