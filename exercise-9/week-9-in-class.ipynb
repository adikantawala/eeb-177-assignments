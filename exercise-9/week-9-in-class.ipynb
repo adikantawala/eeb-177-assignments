{
 "cells": [
  {
   "cell_type": "markdown",
   "metadata": {},
   "source": [
    "# Shell stuff\n",
    "1. How many fossils are included in the dataset?  \n",
    "There are 2947 fossils in the dataset\n",
    "\n",
    "2. How many fossils have been identified to genus-level only? How many to species-level?  \n",
    "There are 614 at the genus level and 2107 at the species level\n",
    "\n",
    "3. How many unique accepted names are part of this dataset?  \n",
    "There are 212 unique accepted names "
   ]
  },
  {
   "cell_type": "markdown",
   "metadata": {},
   "source": [
    "# Pyrate Questions\n",
    "1. How can we change the sampling frequency of our PyRate run?  \n",
    "-sw 100\n",
    "2. What does the -n flag achieve?  \n",
    "It runs the mcmc simulation for a specified number of generations \n",
    "\n",
    "note: heated mcmc essentailly takes a wild guess instead of mcmc where it bases it of the last guess "
   ]
  },
  {
   "cell_type": "markdown",
   "metadata": {},
   "source": [
    "# Summarizing the output of PyRate\n",
    "\n",
    "**sum.txt**\n",
    "\n",
    "Gives a complete list of the settings used in the analysis\n",
    "\n",
    "**mcmc.log**\n",
    "\n",
    "Tab-separated table with the MCMC samples of the posterior, prior, likelihoods of the preservation process and of the birth-death (indicated by PP_lik and BD_lik, respectively), the preservation rate (q_rate), the shape parameter of its gamma-distributed heterogeneity (alpha), the number of sampled rate shifts (k_birth, k_death), the time of origin of the oldest lineage (root_age), the total branch length (tot_length), and the times of speciation and extinction of all taxa in the data set (\\_TS* and \\_TE, respectively). When using the TPP model of preservation, the preservation rates between shifts are indicated as *q_0, q_1, ... q_n (from older to younger).\n",
    "\n",
    "**marginal_rates.log**\n",
    "\n",
    "Tab-separated table with the posterior samples of the marginal rates of speciation, extinction, and net diversification, calculated within 1 time unit (typically Myr). "
   ]
  },
  {
   "cell_type": "markdown",
   "metadata": {
    "collapsed": true
   },
   "source": [
    "a. Describe the changes in Speciation rates across the Canidae lineage.  \n",
    "  There is a slow decline from -50 ma to -30 ma and then a sharp drop until about -5ma. After that it increases till current time. \n",
    "  \n",
    "b. Describe the changes in Extinction rates across the Canidae lineage.  \n",
    "There is a very gradual increase until you reach almost 0 ma and then there is a huge spike in the extinction rates. \n",
    "\n",
    "c. Describe the changes in Diversification rates across the Canidae lineage.\n",
    "\n",
    "The diversification rate slowly decreases until it hits 0 at about -20 ma. The diversification rate dips below 0 and stays there till about -5ma. There is a small increase for about maybe 2 ma and then a sharp drop and the diversification rate almost hits -1 and this continies till you hit 0 ma.  "
   ]
  },
  {
   "cell_type": "code",
   "execution_count": null,
   "metadata": {
    "collapsed": true
   },
   "outputs": [],
   "source": []
  }
 ],
 "metadata": {
  "anaconda-cloud": {},
  "kernelspec": {
   "display_name": "Python [conda root]",
   "language": "python",
   "name": "conda-root-py"
  },
  "language_info": {
   "codemirror_mode": {
    "name": "ipython",
    "version": 3
   },
   "file_extension": ".py",
   "mimetype": "text/x-python",
   "name": "python",
   "nbconvert_exporter": "python",
   "pygments_lexer": "ipython3",
   "version": "3.5.2"
  }
 },
 "nbformat": 4,
 "nbformat_minor": 2
}
