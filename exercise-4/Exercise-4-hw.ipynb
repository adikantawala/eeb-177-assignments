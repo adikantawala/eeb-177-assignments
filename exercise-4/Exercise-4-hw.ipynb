{
 "cells": [
  {
   "cell_type": "code",
   "execution_count": 1,
   "metadata": {
    "collapsed": false
   },
   "outputs": [
    {
     "name": "stdout",
     "output_type": "stream",
     "text": [
      "100\n",
      "101\n",
      "102\n",
      "103\n",
      "104\n",
      "105\n",
      "106\n",
      "107\n",
      "108\n",
      "109\n",
      "110\n"
     ]
    }
   ],
   "source": [
    "for number in (range(100,111)):\n",
    "    print(number)\n"
   ]
  },
  {
   "cell_type": "code",
   "execution_count": 4,
   "metadata": {
    "collapsed": false
   },
   "outputs": [
    {
     "name": "stdout",
     "output_type": "stream",
     "text": [
      "100\n",
      "101\n",
      "102\n",
      "103\n",
      "104\n",
      "105\n",
      "106\n",
      "107\n",
      "108\n",
      "109\n",
      "110\n"
     ]
    }
   ],
   "source": [
    "number = 100\n",
    "while number<111:\n",
    "    print(number)\n",
    "    number = number+1"
   ]
  },
  {
   "cell_type": "code",
   "execution_count": 5,
   "metadata": {
    "collapsed": false
   },
   "outputs": [
    {
     "name": "stdout",
     "output_type": "stream",
     "text": [
      "100\n",
      "121\n",
      "144\n",
      "169\n",
      "196\n",
      "225\n"
     ]
    }
   ],
   "source": [
    "for number in (range(10,16)):\n",
    "    number = number**2\n",
    "    print (number)"
   ]
  },
  {
   "cell_type": "code",
   "execution_count": 8,
   "metadata": {
    "collapsed": false
   },
   "outputs": [
    {
     "name": "stdout",
     "output_type": "stream",
     "text": [
      "Scooby is a character in that most glorious of cartoons, Scooby Doo\n",
      "Shaggy is a character in that most glorious of cartoons, Scooby Doo\n",
      "Velma is a character in that most glorious of cartoons, Scooby Doo\n",
      "Daphne is a character in that most glorious of cartoons, Scooby Doo\n",
      "Fred is a character in that most glorious of cartoons, Scooby Doo\n"
     ]
    }
   ],
   "source": [
    "characters = [\"Scooby\", \"Shaggy\", \"Velma\", \"Daphne\", \"Fred\"]\n",
    "for individual in (characters):\n",
    "    print(individual + \" is a character in that most glorious of cartoons, Scooby Doo\")"
   ]
  },
  {
   "cell_type": "code",
   "execution_count": 18,
   "metadata": {
    "collapsed": false
   },
   "outputs": [
    {
     "data": {
      "text/plain": [
       "20"
      ]
     },
     "execution_count": 18,
     "metadata": {},
     "output_type": "execute_result"
    }
   ],
   "source": [
    "def fact_or_sum(number):\n",
    "    odd_answer = 1\n",
    "    even_answer = 0\n",
    "    if (type(number) != int):\n",
    "       return print(\"Error: exit and enter an integer\")\n",
    "    if (number ==0): \n",
    "        return (number)\n",
    "    if (number>0):\n",
    "        if (number%2==1):\n",
    "            for value in (range(number,0,-1)):\n",
    "                odd_answer = value * answer\n",
    "            return answer\n",
    "        if (number%2 ==0):\n",
    "            new_num = number\n",
    "            while (new_num>1):\n",
    "                even_answer = even_answer +new_num\n",
    "                new_num = new_num -2 \n",
    "            return(even_answer)\n",
    "        \n",
    "fact_or_sum(8)"
   ]
  },
  {
   "cell_type": "code",
   "execution_count": null,
   "metadata": {
    "collapsed": true
   },
   "outputs": [],
   "source": []
  }
 ],
 "metadata": {
  "anaconda-cloud": {},
  "kernelspec": {
   "display_name": "Python [conda root]",
   "language": "python",
   "name": "conda-root-py"
  },
  "language_info": {
   "codemirror_mode": {
    "name": "ipython",
    "version": 3
   },
   "file_extension": ".py",
   "mimetype": "text/x-python",
   "name": "python",
   "nbconvert_exporter": "python",
   "pygments_lexer": "ipython3",
   "version": "3.5.2"
  }
 },
 "nbformat": 4,
 "nbformat_minor": 2
}
