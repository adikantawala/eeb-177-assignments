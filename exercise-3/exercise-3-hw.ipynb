{
 "cells": [
  {
   "cell_type": "code",
   "execution_count": 30,
   "metadata": {
    "collapsed": false
   },
   "outputs": [
    {
     "data": {
      "text/plain": [
       "int"
      ]
     },
     "execution_count": 30,
     "metadata": {},
     "output_type": "execute_result"
    }
   ],
   "source": [
    "a =3\n",
    "type(a)"
   ]
  },
  {
   "cell_type": "code",
   "execution_count": 2,
   "metadata": {
    "collapsed": false
   },
   "outputs": [
    {
     "data": {
      "text/plain": [
       "17"
      ]
     },
     "execution_count": 2,
     "metadata": {},
     "output_type": "execute_result"
    }
   ],
   "source": [
    "b=17\n",
    "b"
   ]
  },
  {
   "cell_type": "code",
   "execution_count": 3,
   "metadata": {
    "collapsed": false
   },
   "outputs": [
    {
     "data": {
      "text/plain": [
       "20"
      ]
     },
     "execution_count": 3,
     "metadata": {},
     "output_type": "execute_result"
    }
   ],
   "source": [
    "c=a+b\n",
    "c"
   ]
  },
  {
   "cell_type": "code",
   "execution_count": 4,
   "metadata": {
    "collapsed": false
   },
   "outputs": [
    {
     "data": {
      "text/plain": [
       "'dog'"
      ]
     },
     "execution_count": 4,
     "metadata": {},
     "output_type": "execute_result"
    }
   ],
   "source": [
    "favorite_animal=\"dog\"\n",
    "favorite_animal"
   ]
  },
  {
   "cell_type": "code",
   "execution_count": 15,
   "metadata": {
    "collapsed": false
   },
   "outputs": [
    {
     "name": "stdout",
     "output_type": "stream",
     "text": [
      "['Pizza', 'Indian food', 'Thai food']\n"
     ]
    },
    {
     "data": {
      "text/plain": [
       "list"
      ]
     },
     "execution_count": 15,
     "metadata": {},
     "output_type": "execute_result"
    }
   ],
   "source": [
    "favorite_dinners=[\"Pizza\", \"Indian food\", \"Thai food\"]\n",
    "print(favorite_dinners)\n",
    "type(favorite_dinners)"
   ]
  },
  {
   "cell_type": "code",
   "execution_count": 21,
   "metadata": {
    "collapsed": false
   },
   "outputs": [
    {
     "data": {
      "text/plain": [
       "3"
      ]
     },
     "execution_count": 21,
     "metadata": {},
     "output_type": "execute_result"
    }
   ],
   "source": [
    "num_favorite_dinners = len(favorite_dinners)\n",
    "num_favorite_dinners"
   ]
  },
  {
   "cell_type": "code",
   "execution_count": 63,
   "metadata": {
    "collapsed": false
   },
   "outputs": [
    {
     "name": "stdout",
     "output_type": "stream",
     "text": [
      "Error: Please enter an integer\n"
     ]
    }
   ],
   "source": [
    "def hw3_function(number):\n",
    "    if (type(number) == int):\n",
    "        if (number<5):\n",
    "            return print(\"Brr! It's cold!\")\n",
    "        elif (number>25):\n",
    "            return print(\"It's pretty warm!\")\n",
    "        else:\n",
    "            return print(\"What a pleasant temperature!\")\n",
    "    else: \n",
    "        return print(\"Error: Please enter an integer\")\n",
    "    \n",
    "\n",
    "    hw3_function(\"h\")"
   ]
  },
  {
   "cell_type": "code",
   "execution_count": 122,
   "metadata": {
    "collapsed": false
   },
   "outputs": [
    {
     "name": "stdout",
     "output_type": "stream",
     "text": [
      "not solved\n"
     ]
    }
   ],
   "source": [
    "import re\n",
    "sample = \"ATAATTAACGGAGCTTATTA\"\n",
    "\n",
    "if re.search(r\"G(A|T)(A|T)G(A|T|G|C)\", sample):\n",
    "    print (\"solved\")\n",
    "else:\n",
    "    print(\"not solved\")"
   ]
  },
  {
   "cell_type": "code",
   "execution_count": 114,
   "metadata": {
    "collapsed": false
   },
   "outputs": [
    {
     "name": "stdout",
     "output_type": "stream",
     "text": [
      "chose from rock, paper, or scissors: rock\n"
     ]
    },
    {
     "ename": "TypeError",
     "evalue": "choice() takes 2 positional arguments but 3 were given",
     "output_type": "error",
     "traceback": [
      "\u001b[0;31m---------------------------------------------------------------------------\u001b[0m",
      "\u001b[0;31mTypeError\u001b[0m                                 Traceback (most recent call last)",
      "\u001b[0;32m<ipython-input-114-7f321df7f217>\u001b[0m in \u001b[0;36m<module>\u001b[0;34m()\u001b[0m\n\u001b[1;32m      2\u001b[0m \u001b[0mlist\u001b[0m \u001b[0;34m=\u001b[0m \u001b[0;34m[\u001b[0m\u001b[0;34m\"rock\"\u001b[0m\u001b[0;34m,\u001b[0m \u001b[0;34m\"paper\"\u001b[0m\u001b[0;34m,\u001b[0m \u001b[0;34m\"scissors\"\u001b[0m\u001b[0;34m]\u001b[0m\u001b[0;34m\u001b[0m\u001b[0m\n\u001b[1;32m      3\u001b[0m \u001b[0mplayer\u001b[0m \u001b[0;34m=\u001b[0m \u001b[0mstr\u001b[0m\u001b[0;34m(\u001b[0m\u001b[0minput\u001b[0m \u001b[0;34m(\u001b[0m\u001b[0;34m\"chose from rock, paper, or scissors: \"\u001b[0m\u001b[0;34m)\u001b[0m\u001b[0;34m)\u001b[0m\u001b[0;34m\u001b[0m\u001b[0m\n\u001b[0;32m----> 4\u001b[0;31m \u001b[0mcomputer\u001b[0m \u001b[0;34m=\u001b[0m \u001b[0mlist\u001b[0m\u001b[0;34m[\u001b[0m\u001b[0mrandom\u001b[0m\u001b[0;34m.\u001b[0m\u001b[0mchoice\u001b[0m\u001b[0;34m(\u001b[0m\u001b[0;36m0\u001b[0m\u001b[0;34m,\u001b[0m\u001b[0;36m2\u001b[0m\u001b[0;34m)\u001b[0m\u001b[0;34m]\u001b[0m\u001b[0;34m\u001b[0m\u001b[0m\n\u001b[0m\u001b[1;32m      5\u001b[0m \u001b[0;32mdef\u001b[0m \u001b[0mrps\u001b[0m\u001b[0;34m(\u001b[0m\u001b[0minput\u001b[0m\u001b[0;34m)\u001b[0m\u001b[0;34m:\u001b[0m\u001b[0;34m\u001b[0m\u001b[0m\n\u001b[1;32m      6\u001b[0m     \u001b[0;32mif\u001b[0m\u001b[0;34m(\u001b[0m\u001b[0minput\u001b[0m \u001b[0;34m!=\u001b[0m\u001b[0;34m\"rock\"\u001b[0m \u001b[0;32mor\u001b[0m \u001b[0minput\u001b[0m \u001b[0;34m!=\u001b[0m\u001b[0;34m\"paper\"\u001b[0m \u001b[0;32mor\u001b[0m \u001b[0minput\u001b[0m \u001b[0;34m!=\u001b[0m\u001b[0;34m\"scissors\"\u001b[0m\u001b[0;34m)\u001b[0m\u001b[0;34m:\u001b[0m\u001b[0;34m\u001b[0m\u001b[0m\n",
      "\u001b[0;31mTypeError\u001b[0m: choice() takes 2 positional arguments but 3 were given"
     ]
    }
   ],
   "source": [
    "import random;\n",
    "list = [\"rock\", \"paper\", \"scissors\"]\n",
    "player = str(input (\"chose from rock, paper, or scissors: \"))\n",
    "computer = list[random.choice(0,2)]\n",
    "def rps(input):\n",
    "    if(input !=\"rock\" or input !=\"paper\" or input !=\"scissors\"):\n",
    "        return print(\"wrong choice. Try running again and chosing from rock, paper, or scissors\")\n",
    "    else:\n",
    "        computer = random.choice(rock, paper, scissors)\n",
    "        "
   ]
  },
  {
   "cell_type": "raw",
   "metadata": {},
   "source": [
    "impmort random; \n",
    "\n",
    "computer = random.choice(rock, paper, scissors)\n",
    "type(computer)"
   ]
  },
  {
   "cell_type": "code",
   "execution_count": 96,
   "metadata": {
    "collapsed": false
   },
   "outputs": [
    {
     "name": "stdout",
     "output_type": "stream",
     "text": [
      "Select: \n",
      "1 rock\n",
      "2 paper\n",
      "3 scissors\n",
      "chose from rock, paper, scissorsrock\n",
      "+1 for computer\n"
     ]
    },
    {
     "ename": "TypeError",
     "evalue": "unsupported operand type(s) for -: 'str' and 'int'",
     "output_type": "error",
     "traceback": [
      "\u001b[0;31m---------------------------------------------------------------------------\u001b[0m",
      "\u001b[0;31mTypeError\u001b[0m                                 Traceback (most recent call last)",
      "\u001b[0;32m<ipython-input-96-7a419530ac17>\u001b[0m in \u001b[0;36m<module>\u001b[0;34m()\u001b[0m\n\u001b[1;32m     24\u001b[0m     \u001b[0mprint\u001b[0m\u001b[0;34m(\u001b[0m\u001b[0;34m\"This is a tie!\"\u001b[0m\u001b[0;34m)\u001b[0m\u001b[0;34m\u001b[0m\u001b[0m\n\u001b[1;32m     25\u001b[0m \u001b[0;34m\u001b[0m\u001b[0m\n\u001b[0;32m---> 26\u001b[0;31m \u001b[0mprint\u001b[0m \u001b[0;34m(\u001b[0m\u001b[0mnames\u001b[0m\u001b[0;34m[\u001b[0m\u001b[0mplayer\u001b[0m\u001b[0;34m-\u001b[0m\u001b[0;36m1\u001b[0m\u001b[0;34m]\u001b[0m\u001b[0;34m,\u001b[0m \u001b[0;34m\"vs\"\u001b[0m\u001b[0;34m,\u001b[0m \u001b[0mnames\u001b[0m \u001b[0;34m[\u001b[0m\u001b[0mcomputer\u001b[0m\u001b[0;34m-\u001b[0m\u001b[0;36m1\u001b[0m\u001b[0;34m]\u001b[0m\u001b[0;34m)\u001b[0m\u001b[0;34m\u001b[0m\u001b[0m\n\u001b[0m",
      "\u001b[0;31mTypeError\u001b[0m: unsupported operand type(s) for -: 'str' and 'int'"
     ]
    }
   ],
   "source": [
    "import random;\n",
    "\n",
    "rock, paper, scissors = 1, 2, 3\n",
    "names = \"rock\", \"paper\", \"scissors\"\n",
    "\n",
    "def beats(a,b):\n",
    "    if(a,b) in((rock, paper), (paper, scissors), (scissors, rock)):\n",
    "        return False \n",
    "        return true\n",
    "print(\"Select: \")\n",
    "print(\"1 rock\")\n",
    "print(\"2 paper\")\n",
    "print(\"3 scissors\")\n",
    "\n",
    "player = str(input (\"chose from rock, paper, scissors\"))\n",
    "computer = random.choice((rock, paper, scissors))\n",
    "\n",
    "if computer != player:\n",
    "        if beats(player, computer):\n",
    "            print(\"+! for player\")\n",
    "        else: \n",
    "            print(\"+1 for computer\")    \n",
    "else:\n",
    "    print(\"This is a tie!\")\n",
    "        \n",
    "print (names[player-1], \"vs\", names [computer-1])"
   ]
  },
  {
   "cell_type": "code",
   "execution_count": 14,
   "metadata": {
    "collapsed": false
   },
   "outputs": [],
   "source": [
    "import random\n",
    "\n",
    "def rps(input):\n",
    "    while(input !=\"rock\" and \"paper\" and \"scissors\"):\n",
    "        return \"Please enter valid input: \"\n",
    "    computer_options = [\"rock\", \"paper\", \"scissors\"]\n",
    "    output = random.choice(computer_options)\n",
    "    if(input== output):\n",
    "        return \"you chose\" + input + \"computer chose\" + output + \"its a tie!\"\n",
    "    elif (input == \"rock\" and output == \"paper\"):\n",
    "        return \"you lose\"\n",
    "    elif (input == \"rock\" and output == \"scissors\"):\n",
    "         return \"you win\"\n",
    "    elif (input == \"paper\" and output == \"rock\"):\n",
    "        return \"you win\"\n",
    "    elif(input == \"paper\" and output == \"scissors\"): \n",
    "         return \"you lose\"\n",
    "    elif(input == \"scissors\" and output == \"rock\"): \n",
    "         return \"you lose\"\n",
    "    elif(  input == \"scissors\" and output == \"paper\"):\n",
    "        return \"you win\""
   ]
  },
  {
   "cell_type": "code",
   "execution_count": 15,
   "metadata": {
    "collapsed": false
   },
   "outputs": [
    {
     "name": "stdout",
     "output_type": "stream",
     "text": [
      "you win\n"
     ]
    }
   ],
   "source": [
    "print(rps(\"rock\"))"
   ]
  },
  {
   "cell_type": "code",
   "execution_count": null,
   "metadata": {
    "collapsed": true
   },
   "outputs": [],
   "source": []
  }
 ],
 "metadata": {
  "anaconda-cloud": {},
  "kernelspec": {
   "display_name": "Python [default]",
   "language": "python",
   "name": "python3"
  },
  "language_info": {
   "codemirror_mode": {
    "name": "ipython",
    "version": 3
   },
   "file_extension": ".py",
   "mimetype": "text/x-python",
   "name": "python",
   "nbconvert_exporter": "python",
   "pygments_lexer": "ipython3",
   "version": "3.5.2"
  }
 },
 "nbformat": 4,
 "nbformat_minor": 2
}
